{
  "nbformat": 4,
  "nbformat_minor": 0,
  "metadata": {
    "colab": {
      "provenance": [],
      "authorship_tag": "ABX9TyMhZkvNBhnB9KYJpTeMoTX+",
      "include_colab_link": true
    },
    "kernelspec": {
      "name": "python3",
      "display_name": "Python 3"
    },
    "language_info": {
      "name": "python"
    }
  },
  "cells": [
    {
      "cell_type": "markdown",
      "metadata": {
        "id": "view-in-github",
        "colab_type": "text"
      },
      "source": [
        "<a href=\"https://colab.research.google.com/github/nmammouni/gender_guesser_detector/blob/main/gender_guesser_detector.ipynb\" target=\"_parent\"><img src=\"https://colab.research.google.com/assets/colab-badge.svg\" alt=\"Open In Colab\"/></a>"
      ]
    },
    {
      "cell_type": "code",
      "execution_count": null,
      "metadata": {
        "colab": {
          "base_uri": "https://localhost:8080/"
        },
        "id": "gICBRQEHIYsh",
        "outputId": "7862809e-5a0f-4481-8cc5-ad7b5bcd7339"
      },
      "outputs": [
        {
          "output_type": "stream",
          "name": "stdout",
          "text": [
            "Mounted at /content/drive/\n"
          ]
        }
      ],
      "source": [
        "import pandas as pd\n",
        "from google.colab import drive\n",
        "drive.mount('/content/drive/')"
      ]
    },
    {
      "cell_type": "code",
      "source": [
        "!pip install gender-guesser\n",
        "\n",
        "import pandas as pd\n",
        "import gender_guesser.detector as gender\n",
        "from google.colab import files\n",
        "\n",
        "# Optimized function to guess gender based on the first name\n",
        "def guess_gender(name, detector):\n",
        "    if pd.isna(name) or name == '':\n",
        "        return 'Unknown'\n",
        "    # Assuming the last part of the name is the first name\n",
        "    first_name = name.split()[-1]\n",
        "    return detector.get_gender(first_name)\n",
        "\n",
        "# Initialize the gender detector outside the loop\n",
        "d = gender.Detector()\n",
        "\n",
        "# Load your Excel file\n",
        "df = pd.read_excel('Path _file')\n",
        "\n",
        "# Save the cleaned DataFrame with the new gender column to a new Excel file\n",
        "cleaned_file_path = '/content/gender.xlsx'\n",
        "df.to_excel(cleaned_file_path, index=False)\n",
        "\n",
        "# Download the cleaned file to your local machine\n",
        "files.download(cleaned_file_path)\n"
      ],
      "metadata": {
        "id": "PeqzRAgHIZpK"
      },
      "execution_count": null,
      "outputs": []
    }
  ]
}